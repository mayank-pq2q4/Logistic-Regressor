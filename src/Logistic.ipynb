{
 "cells": [
  {
   "cell_type": "code",
   "execution_count": 1,
   "metadata": {},
   "outputs": [],
   "source": [
    "import csv \n",
    "import numpy as np \n",
    "import matplotlib.pyplot as plt \n",
    "import pandas as pd\n",
    "import time\n"
   ]
  },
  {
   "cell_type": "code",
   "execution_count": 2,
   "metadata": {},
   "outputs": [
    {
     "output_type": "stream",
     "name": "stdout",
     "text": "Data loaded\n"
    }
   ],
   "source": [
    "try:\n",
    "    data_full = pd.read_csv(\"trainset.csv\", index_col=1)\n",
    "    print(\"Data loaded\")\n",
    "except FileNotFoundError:\n",
    "    print(\"Hey! The file was not found. Check again!\")\n",
    "from sklearn import preprocessing   "
   ]
  },
  {
   "cell_type": "code",
   "execution_count": 3,
   "metadata": {},
   "outputs": [],
   "source": [
    "dataXTr = data_full.iloc[0:11706]\n",
    "dataXTs = data_full.iloc[9656:11706]"
   ]
  },
  {
   "cell_type": "code",
   "execution_count": 4,
   "metadata": {},
   "outputs": [],
   "source": [
    "dataXTr = dataXTr[dataXTr.label != 'Draw']\n",
    "dataXTs = dataXTs[dataXTs.label != 'Draw']\n",
    "dataXTsv = dataXTs\n",
    "dataXTr\n",
    "label_df = dataXTr.iloc[:,-1]\n",
    "label = (label_df).tolist()\n",
    "label_dft = dataXTs.iloc[:,-1]\n",
    "labelt = (label_dft).tolist()"
   ]
  },
  {
   "cell_type": "code",
   "execution_count": 5,
   "metadata": {},
   "outputs": [
    {
     "output_type": "execute_result",
     "data": {
      "text/plain": "array([[ 1],\n       [-1],\n       [ 1],\n       ...,\n       [-1],\n       [-1],\n       [-1]])"
     },
     "metadata": {},
     "execution_count": 5
    }
   ],
   "source": [
    "for i in range(len(label)):\n",
    "    if (label[i] == 'Win'):\n",
    "        label[i] = 1\n",
    "    if (label[i] == 'Defeat'):\n",
    "        label[i] = -1\n",
    "        \n",
    "        \n",
    "label\n",
    "Y = np.array(label)\n",
    "Y = Y.reshape(dataXTr.shape[0],1)\n",
    "Y"
   ]
  },
  {
   "cell_type": "code",
   "execution_count": 6,
   "metadata": {},
   "outputs": [],
   "source": [
    "#dropping last column 'label'\n",
    "dataX = dataXTr.drop(['label'], axis = 1)\n",
    "dataXTs = dataXTs.drop(['label'], axis = 1)"
   ]
  },
  {
   "cell_type": "code",
   "execution_count": 7,
   "metadata": {},
   "outputs": [
    {
     "output_type": "execute_result",
     "data": {
      "text/plain": "             0         1    2    3         4         5    6    7    8    9   \\\n0      0.000000  0.396825  0.0  0.0  0.000000  0.000000  1.0  0.0  0.0  0.0   \n1      0.000085  0.396825  0.0  0.0  0.000000  0.000000  1.0  0.0  0.0  0.0   \n2      0.000171  0.396825  0.0  0.0  0.000000  0.000000  1.0  0.0  0.0  0.0   \n3      0.000256  0.428571  0.1  0.1  0.000000  0.000000  1.0  0.0  0.0  0.0   \n4      0.000342  0.365079  0.0  0.0  0.000000  0.000000  1.0  0.0  0.0  0.0   \n...         ...       ...  ...  ...       ...       ...  ...  ...  ...  ...   \n11701  0.999658  0.301587  0.9  0.2  0.666667  0.000000  0.0  0.0  0.0  0.0   \n11702  0.999744  0.333333  0.2  0.3  0.000000  0.666667  0.0  0.0  0.0  0.0   \n11703  0.999829  0.380952  0.2  0.3  0.333333  0.000000  0.0  0.0  0.0  0.0   \n11704  0.999915  0.428571  0.3  0.5  0.000000  0.333333  0.0  0.0  0.0  0.0   \n11705  1.000000  0.650794  0.2  0.8  0.000000  1.000000  0.0  0.0  0.0  0.0   \n\n       ...        35        36        37        38        39        40  \\\n0      ...  0.444444  0.533333  0.551020  0.386364  0.308862  0.449449   \n1      ...  0.511111  0.466667  0.653061  0.500000  0.324207  0.469354   \n2      ...  0.466667  0.200000  0.346939  0.409091  0.720847  0.306356   \n3      ...  0.644444  0.622222  0.591837  0.522727  0.186794  0.412104   \n4      ...  0.422222  0.200000  0.346939  0.227273  0.584209  0.400592   \n...    ...       ...       ...       ...       ...       ...       ...   \n11701  ...  0.422222  0.511111  0.469388  0.340909  0.833289  0.194925   \n11702  ...  0.444444  0.600000  0.551020  0.545455  0.339960  0.464714   \n11703  ...  0.355556  0.377778  0.387755  0.545455  0.462100  0.448241   \n11704  ...  0.533333  0.555556  0.510204  0.409091  0.342140  0.486984   \n11705  ...  0.533333  0.644444  0.632653  0.727273  0.056138  0.259120   \n\n             41        42        43        44  \n0      0.468897  0.313154  0.475749  0.474753  \n1      0.441540  0.292528  0.524076  0.470514  \n2      0.118603  0.746849  0.353522  0.089764  \n3      0.617908  0.176174  0.464266  0.622912  \n4      0.208252  0.617137  0.442370  0.177176  \n...         ...       ...       ...       ...  \n11701  0.064043  0.823543  0.205803  0.088562  \n11702  0.427675  0.385209  0.471763  0.402134  \n11703  0.309108  0.470611  0.461808  0.318838  \n11704  0.412761  0.385209  0.471763  0.402134  \n11705  0.841493  0.085321  0.267367  0.821563  \n\n[11706 rows x 45 columns]",
      "text/html": "<div>\n<style scoped>\n    .dataframe tbody tr th:only-of-type {\n        vertical-align: middle;\n    }\n\n    .dataframe tbody tr th {\n        vertical-align: top;\n    }\n\n    .dataframe thead th {\n        text-align: right;\n    }\n</style>\n<table border=\"1\" class=\"dataframe\">\n  <thead>\n    <tr style=\"text-align: right;\">\n      <th></th>\n      <th>0</th>\n      <th>1</th>\n      <th>2</th>\n      <th>3</th>\n      <th>4</th>\n      <th>5</th>\n      <th>6</th>\n      <th>7</th>\n      <th>8</th>\n      <th>9</th>\n      <th>...</th>\n      <th>35</th>\n      <th>36</th>\n      <th>37</th>\n      <th>38</th>\n      <th>39</th>\n      <th>40</th>\n      <th>41</th>\n      <th>42</th>\n      <th>43</th>\n      <th>44</th>\n    </tr>\n  </thead>\n  <tbody>\n    <tr>\n      <th>0</th>\n      <td>0.000000</td>\n      <td>0.396825</td>\n      <td>0.0</td>\n      <td>0.0</td>\n      <td>0.000000</td>\n      <td>0.000000</td>\n      <td>1.0</td>\n      <td>0.0</td>\n      <td>0.0</td>\n      <td>0.0</td>\n      <td>...</td>\n      <td>0.444444</td>\n      <td>0.533333</td>\n      <td>0.551020</td>\n      <td>0.386364</td>\n      <td>0.308862</td>\n      <td>0.449449</td>\n      <td>0.468897</td>\n      <td>0.313154</td>\n      <td>0.475749</td>\n      <td>0.474753</td>\n    </tr>\n    <tr>\n      <th>1</th>\n      <td>0.000085</td>\n      <td>0.396825</td>\n      <td>0.0</td>\n      <td>0.0</td>\n      <td>0.000000</td>\n      <td>0.000000</td>\n      <td>1.0</td>\n      <td>0.0</td>\n      <td>0.0</td>\n      <td>0.0</td>\n      <td>...</td>\n      <td>0.511111</td>\n      <td>0.466667</td>\n      <td>0.653061</td>\n      <td>0.500000</td>\n      <td>0.324207</td>\n      <td>0.469354</td>\n      <td>0.441540</td>\n      <td>0.292528</td>\n      <td>0.524076</td>\n      <td>0.470514</td>\n    </tr>\n    <tr>\n      <th>2</th>\n      <td>0.000171</td>\n      <td>0.396825</td>\n      <td>0.0</td>\n      <td>0.0</td>\n      <td>0.000000</td>\n      <td>0.000000</td>\n      <td>1.0</td>\n      <td>0.0</td>\n      <td>0.0</td>\n      <td>0.0</td>\n      <td>...</td>\n      <td>0.466667</td>\n      <td>0.200000</td>\n      <td>0.346939</td>\n      <td>0.409091</td>\n      <td>0.720847</td>\n      <td>0.306356</td>\n      <td>0.118603</td>\n      <td>0.746849</td>\n      <td>0.353522</td>\n      <td>0.089764</td>\n    </tr>\n    <tr>\n      <th>3</th>\n      <td>0.000256</td>\n      <td>0.428571</td>\n      <td>0.1</td>\n      <td>0.1</td>\n      <td>0.000000</td>\n      <td>0.000000</td>\n      <td>1.0</td>\n      <td>0.0</td>\n      <td>0.0</td>\n      <td>0.0</td>\n      <td>...</td>\n      <td>0.644444</td>\n      <td>0.622222</td>\n      <td>0.591837</td>\n      <td>0.522727</td>\n      <td>0.186794</td>\n      <td>0.412104</td>\n      <td>0.617908</td>\n      <td>0.176174</td>\n      <td>0.464266</td>\n      <td>0.622912</td>\n    </tr>\n    <tr>\n      <th>4</th>\n      <td>0.000342</td>\n      <td>0.365079</td>\n      <td>0.0</td>\n      <td>0.0</td>\n      <td>0.000000</td>\n      <td>0.000000</td>\n      <td>1.0</td>\n      <td>0.0</td>\n      <td>0.0</td>\n      <td>0.0</td>\n      <td>...</td>\n      <td>0.422222</td>\n      <td>0.200000</td>\n      <td>0.346939</td>\n      <td>0.227273</td>\n      <td>0.584209</td>\n      <td>0.400592</td>\n      <td>0.208252</td>\n      <td>0.617137</td>\n      <td>0.442370</td>\n      <td>0.177176</td>\n    </tr>\n    <tr>\n      <th>...</th>\n      <td>...</td>\n      <td>...</td>\n      <td>...</td>\n      <td>...</td>\n      <td>...</td>\n      <td>...</td>\n      <td>...</td>\n      <td>...</td>\n      <td>...</td>\n      <td>...</td>\n      <td>...</td>\n      <td>...</td>\n      <td>...</td>\n      <td>...</td>\n      <td>...</td>\n      <td>...</td>\n      <td>...</td>\n      <td>...</td>\n      <td>...</td>\n      <td>...</td>\n      <td>...</td>\n    </tr>\n    <tr>\n      <th>11701</th>\n      <td>0.999658</td>\n      <td>0.301587</td>\n      <td>0.9</td>\n      <td>0.2</td>\n      <td>0.666667</td>\n      <td>0.000000</td>\n      <td>0.0</td>\n      <td>0.0</td>\n      <td>0.0</td>\n      <td>0.0</td>\n      <td>...</td>\n      <td>0.422222</td>\n      <td>0.511111</td>\n      <td>0.469388</td>\n      <td>0.340909</td>\n      <td>0.833289</td>\n      <td>0.194925</td>\n      <td>0.064043</td>\n      <td>0.823543</td>\n      <td>0.205803</td>\n      <td>0.088562</td>\n    </tr>\n    <tr>\n      <th>11702</th>\n      <td>0.999744</td>\n      <td>0.333333</td>\n      <td>0.2</td>\n      <td>0.3</td>\n      <td>0.000000</td>\n      <td>0.666667</td>\n      <td>0.0</td>\n      <td>0.0</td>\n      <td>0.0</td>\n      <td>0.0</td>\n      <td>...</td>\n      <td>0.444444</td>\n      <td>0.600000</td>\n      <td>0.551020</td>\n      <td>0.545455</td>\n      <td>0.339960</td>\n      <td>0.464714</td>\n      <td>0.427675</td>\n      <td>0.385209</td>\n      <td>0.471763</td>\n      <td>0.402134</td>\n    </tr>\n    <tr>\n      <th>11703</th>\n      <td>0.999829</td>\n      <td>0.380952</td>\n      <td>0.2</td>\n      <td>0.3</td>\n      <td>0.333333</td>\n      <td>0.000000</td>\n      <td>0.0</td>\n      <td>0.0</td>\n      <td>0.0</td>\n      <td>0.0</td>\n      <td>...</td>\n      <td>0.355556</td>\n      <td>0.377778</td>\n      <td>0.387755</td>\n      <td>0.545455</td>\n      <td>0.462100</td>\n      <td>0.448241</td>\n      <td>0.309108</td>\n      <td>0.470611</td>\n      <td>0.461808</td>\n      <td>0.318838</td>\n    </tr>\n    <tr>\n      <th>11704</th>\n      <td>0.999915</td>\n      <td>0.428571</td>\n      <td>0.3</td>\n      <td>0.5</td>\n      <td>0.000000</td>\n      <td>0.333333</td>\n      <td>0.0</td>\n      <td>0.0</td>\n      <td>0.0</td>\n      <td>0.0</td>\n      <td>...</td>\n      <td>0.533333</td>\n      <td>0.555556</td>\n      <td>0.510204</td>\n      <td>0.409091</td>\n      <td>0.342140</td>\n      <td>0.486984</td>\n      <td>0.412761</td>\n      <td>0.385209</td>\n      <td>0.471763</td>\n      <td>0.402134</td>\n    </tr>\n    <tr>\n      <th>11705</th>\n      <td>1.000000</td>\n      <td>0.650794</td>\n      <td>0.2</td>\n      <td>0.8</td>\n      <td>0.000000</td>\n      <td>1.000000</td>\n      <td>0.0</td>\n      <td>0.0</td>\n      <td>0.0</td>\n      <td>0.0</td>\n      <td>...</td>\n      <td>0.533333</td>\n      <td>0.644444</td>\n      <td>0.632653</td>\n      <td>0.727273</td>\n      <td>0.056138</td>\n      <td>0.259120</td>\n      <td>0.841493</td>\n      <td>0.085321</td>\n      <td>0.267367</td>\n      <td>0.821563</td>\n    </tr>\n  </tbody>\n</table>\n<p>11706 rows × 45 columns</p>\n</div>"
     },
     "metadata": {},
     "execution_count": 7
    }
   ],
   "source": [
    "min_max_sc = preprocessing.MinMaxScaler()\n",
    "dataX = pd.DataFrame(min_max_sc.fit_transform(dataX))\n",
    "dataX"
   ]
  },
  {
   "cell_type": "code",
   "execution_count": 8,
   "metadata": {},
   "outputs": [],
   "source": [
    "X_arr = dataX.values\n",
    "M = np.zeros((X_arr.shape[1],1))"
   ]
  },
  {
   "cell_type": "code",
   "execution_count": 9,
   "metadata": {},
   "outputs": [
    {
     "output_type": "execute_result",
     "data": {
      "text/plain": "array([[0.5],\n       [0.5],\n       [0.5],\n       ...,\n       [0.5],\n       [0.5],\n       [0.5]])"
     },
     "metadata": {},
     "execution_count": 9
    }
   ],
   "source": [
    "def logistic_func(m,x):\n",
    "    return 1.0/(1 + np.exp(-np.dot(X_arr, m))) \n",
    "logistic_func(M,X_arr)"
   ]
  },
  {
   "cell_type": "code",
   "execution_count": 10,
   "metadata": {},
   "outputs": [
    {
     "output_type": "execute_result",
     "data": {
      "text/plain": "array([[1605.03695002],\n       [1593.48412698],\n       [ 623.55      ],\n       [1637.9       ],\n       [ 225.66666667],\n       [1469.16666667],\n       [ 232.5       ],\n       [ 594.5       ],\n       [ 513.5       ],\n       [ 538.        ],\n       [ 477.5       ],\n       [ 407.        ],\n       [   0.        ],\n       [ 290.        ],\n       [  86.        ],\n       [   0.        ],\n       [   0.        ],\n       [1841.38297872],\n       [1384.30769231],\n       [1693.76136364],\n       [1513.30952381],\n       [1834.84545455],\n       [1532.75      ],\n       [1607.75      ],\n       [1639.4       ],\n       [1621.72222222],\n       [1661.43181818],\n       [1680.93181818],\n       [2210.53658537],\n       [2206.26190476],\n       [2247.63636364],\n       [2176.53409091],\n       [2322.63207547],\n       [2105.67777778],\n       [2175.38636364],\n       [2197.95555556],\n       [2169.31111111],\n       [2349.48979592],\n       [2241.69318182],\n       [ 452.03931519],\n       [1480.14182715],\n       [1974.47487757],\n       [ 488.74312921],\n       [1547.23391549],\n       [1974.29525642]])"
     },
     "metadata": {},
     "execution_count": 10
    }
   ],
   "source": [
    "def log_gradient(m, X, y): \n",
    "    ''' \n",
    "    logistic gradient function \n",
    "    '''\n",
    "    first_calc = logistic_func(m, X) - y.reshape(X.shape[0], -1) \n",
    "    final_calc = np.dot(first_calc.T, X) \n",
    "    return final_calc.T \n",
    "log_gradient(M, X_arr, Y)"
   ]
  },
  {
   "cell_type": "code",
   "execution_count": 12,
   "metadata": {},
   "outputs": [
    {
     "output_type": "execute_result",
     "data": {
      "text/plain": "0.6931471805599453"
     },
     "metadata": {},
     "execution_count": 12
    }
   ],
   "source": [
    "def cost_func(m, X, y): \n",
    "    ''' \n",
    "    cost function, J \n",
    "    '''\n",
    "    log_func_v = logistic_func(m, X) \n",
    "    #y = np.squeeze(y) \n",
    "    step1 = y * np.log(log_func_v) \n",
    "    step2 = (1 - y) * np.log(1 - log_func_v) \n",
    "    final = -step1 - step2 \n",
    "    return np.mean(final) \n",
    "cost_func(M,X_arr,Y)"
   ]
  },
  {
   "cell_type": "code",
   "execution_count": 13,
   "metadata": {},
   "outputs": [],
   "source": [
    "def grad_desc(X, y, m, lr=.01, converge_change=.001): \n",
    "    ''' \n",
    "    gradient descent function \n",
    "    '''\n",
    "    cost = cost_func(m, X, y) \n",
    "    change_cost = 1\n",
    "    num_iter = 1\n",
    "      \n",
    "    while(change_cost > converge_change): \n",
    "        old_cost = cost \n",
    "        m = m - (lr * log_gradient(m, X, y)) \n",
    "        cost = cost_func(m, X, y) \n",
    "        change_cost = old_cost - cost \n",
    "        num_iter += 1\n",
    "      \n",
    "    return m, num_iter  \n"
   ]
  },
  {
   "cell_type": "code",
   "execution_count": 65,
   "metadata": {},
   "outputs": [
    {
     "name": "stderr",
     "output_type": "stream",
     "text": [
      "/home/mayank/anaconda3/lib/python3.7/site-packages/ipykernel_launcher.py:7: RuntimeWarning: divide by zero encountered in log\n",
      "  import sys\n",
      "/home/mayank/anaconda3/lib/python3.7/site-packages/ipykernel_launcher.py:8: RuntimeWarning: divide by zero encountered in log\n",
      "  \n",
      "/home/mayank/anaconda3/lib/python3.7/site-packages/ipykernel_launcher.py:8: RuntimeWarning: invalid value encountered in multiply\n",
      "  \n"
     ]
    },
    {
     "data": {
      "text/plain": [
       "8253"
      ]
     },
     "execution_count": 65,
     "metadata": {},
     "output_type": "execute_result"
    }
   ],
   "source": [
    "M, num_iter = grad_desc(X_arr, Y, M, lr=1, converge_change=0.01)\n",
    "def pred_values(m, x): \n",
    "    ''' \n",
    "    function to predict labels \n",
    "    '''\n",
    "    \n",
    "    pred_prob = logistic_func(m, x)\n",
    "    np.savetxt(\"foo.csv\", M, delimiter=\",\")\n",
    "    pred_value = np.where(pred_prob >= .5, 1, -1)\n",
    "    return pred_value \n",
    "yp = pred_values(M, X_arr)\n",
    "np.sum(Y==yp)"
   ]
  },
  {
   "cell_type": "code",
   "execution_count": 66,
   "metadata": {},
   "outputs": [
    {
     "ename": "IndexError",
     "evalue": "too many indices for array",
     "output_type": "error",
     "traceback": [
      "\u001b[0;31m---------------------------------------------------------------------------\u001b[0m",
      "\u001b[0;31mIndexError\u001b[0m                                Traceback (most recent call last)",
      "\u001b[0;32m<ipython-input-66-5cf78880f936>\u001b[0m in \u001b[0;36m<module>\u001b[0;34m\u001b[0m\n\u001b[1;32m     20\u001b[0m     \u001b[0mplt\u001b[0m\u001b[0;34m.\u001b[0m\u001b[0mlegend\u001b[0m\u001b[0;34m(\u001b[0m\u001b[0;34m)\u001b[0m\u001b[0;34m\u001b[0m\u001b[0;34m\u001b[0m\u001b[0m\n\u001b[1;32m     21\u001b[0m     \u001b[0mplt\u001b[0m\u001b[0;34m.\u001b[0m\u001b[0mshow\u001b[0m\u001b[0;34m(\u001b[0m\u001b[0;34m)\u001b[0m\u001b[0;34m\u001b[0m\u001b[0;34m\u001b[0m\u001b[0m\n\u001b[0;32m---> 22\u001b[0;31m \u001b[0mplot_reg\u001b[0m\u001b[0;34m(\u001b[0m\u001b[0mX_arr\u001b[0m\u001b[0;34m,\u001b[0m\u001b[0mY\u001b[0m\u001b[0;34m,\u001b[0m\u001b[0mM\u001b[0m\u001b[0;34m)\u001b[0m\u001b[0;34m\u001b[0m\u001b[0;34m\u001b[0m\u001b[0m\n\u001b[0m",
      "\u001b[0;32m<ipython-input-66-5cf78880f936>\u001b[0m in \u001b[0;36mplot_reg\u001b[0;34m(X, y, m)\u001b[0m\n\u001b[1;32m      8\u001b[0m \u001b[0;34m\u001b[0m\u001b[0m\n\u001b[1;32m      9\u001b[0m     \u001b[0;31m# plotting points with diff color for diff label\u001b[0m\u001b[0;34m\u001b[0m\u001b[0;34m\u001b[0m\u001b[0;34m\u001b[0m\u001b[0m\n\u001b[0;32m---> 10\u001b[0;31m     \u001b[0mplt\u001b[0m\u001b[0;34m.\u001b[0m\u001b[0mscatter\u001b[0m\u001b[0;34m(\u001b[0m\u001b[0;34m[\u001b[0m\u001b[0mx_0\u001b[0m\u001b[0;34m[\u001b[0m\u001b[0;36m1\u001b[0m\u001b[0;34m,\u001b[0m\u001b[0;34m:\u001b[0m\u001b[0;34m]\u001b[0m\u001b[0;34m]\u001b[0m\u001b[0;34m,\u001b[0m \u001b[0;34m[\u001b[0m\u001b[0mx_0\u001b[0m\u001b[0;34m[\u001b[0m\u001b[0;36m2\u001b[0m\u001b[0;34m,\u001b[0m\u001b[0;34m:\u001b[0m\u001b[0;34m]\u001b[0m\u001b[0;34m]\u001b[0m\u001b[0;34m,\u001b[0m \u001b[0mc\u001b[0m\u001b[0;34m=\u001b[0m\u001b[0;34m'b'\u001b[0m\u001b[0;34m,\u001b[0m \u001b[0mlabel\u001b[0m\u001b[0;34m=\u001b[0m\u001b[0;34m'y = 0'\u001b[0m\u001b[0;34m)\u001b[0m\u001b[0;34m\u001b[0m\u001b[0;34m\u001b[0m\u001b[0m\n\u001b[0m\u001b[1;32m     11\u001b[0m     \u001b[0mplt\u001b[0m\u001b[0;34m.\u001b[0m\u001b[0mscatter\u001b[0m\u001b[0;34m(\u001b[0m\u001b[0;34m[\u001b[0m\u001b[0mx_1\u001b[0m\u001b[0;34m[\u001b[0m\u001b[0;36m1\u001b[0m\u001b[0;34m,\u001b[0m\u001b[0;34m:\u001b[0m\u001b[0;34m]\u001b[0m\u001b[0;34m]\u001b[0m\u001b[0;34m,\u001b[0m \u001b[0;34m[\u001b[0m\u001b[0mx_1\u001b[0m\u001b[0;34m[\u001b[0m\u001b[0;36m2\u001b[0m\u001b[0;34m,\u001b[0m\u001b[0;34m:\u001b[0m\u001b[0;34m]\u001b[0m\u001b[0;34m]\u001b[0m\u001b[0;34m,\u001b[0m \u001b[0mc\u001b[0m\u001b[0;34m=\u001b[0m\u001b[0;34m'r'\u001b[0m\u001b[0;34m,\u001b[0m \u001b[0mlabel\u001b[0m\u001b[0;34m=\u001b[0m\u001b[0;34m'y = 1'\u001b[0m\u001b[0;34m)\u001b[0m\u001b[0;34m\u001b[0m\u001b[0;34m\u001b[0m\u001b[0m\n\u001b[1;32m     12\u001b[0m \u001b[0;34m\u001b[0m\u001b[0m\n",
      "\u001b[0;31mIndexError\u001b[0m: too many indices for array"
     ]
    }
   ],
   "source": [
    "def plot_reg(X, y, m): \n",
    "    ''' \n",
    "    function to plot decision boundary \n",
    "    '''\n",
    "    # labelled observations \n",
    "    x_0 = X[np.where(y == 1.0)] \n",
    "    x_1 = X[np.where(y == -1.0)] \n",
    "      \n",
    "    # plotting points with diff color for diff label \n",
    "    plt.scatter([x_0[1,:]], [x_0[2,:]], c='b', label='y = 0') \n",
    "    plt.scatter([x_1[1,:]], [x_1[2,:]], c='r', label='y = 1') \n",
    "      \n",
    "    # plotting decision boundary \n",
    "#     x1 = np.arange(0, 1, 0.1) \n",
    "#     x2 = -(m[0,0] + m[0,1]*x1)/m[0,2] \n",
    "#     plt.plot(x1, x2, c='k', label='reg line') \n",
    "  \n",
    "    plt.xlabel('x1') \n",
    "    plt.ylabel('x2') \n",
    "    plt.legend() \n",
    "    plt.show() \n",
    "plot_reg(X_arr,Y,M)"
   ]
  },
  {
   "cell_type": "code",
   "execution_count": 122,
   "metadata": {},
   "outputs": [
    {
     "ename": "ValueError",
     "evalue": "could not convert string to float: 'Win'",
     "output_type": "error",
     "traceback": [
      "\u001b[0;31m---------------------------------------------------------------------------\u001b[0m",
      "\u001b[0;31mValueError\u001b[0m                                Traceback (most recent call last)",
      "\u001b[0;32m<ipython-input-122-a2ede69e46d6>\u001b[0m in \u001b[0;36m<module>\u001b[0;34m\u001b[0m\n\u001b[1;32m      5\u001b[0m     \u001b[0;31m# normalizing feature matrix\u001b[0m\u001b[0;34m\u001b[0m\u001b[0;34m\u001b[0m\u001b[0;34m\u001b[0m\u001b[0m\n\u001b[1;32m      6\u001b[0m     \u001b[0mmin_max_sc\u001b[0m \u001b[0;34m=\u001b[0m \u001b[0mpreprocessing\u001b[0m\u001b[0;34m.\u001b[0m\u001b[0mMinMaxScaler\u001b[0m\u001b[0;34m(\u001b[0m\u001b[0;34m)\u001b[0m\u001b[0;34m\u001b[0m\u001b[0;34m\u001b[0m\u001b[0m\n\u001b[0;32m----> 7\u001b[0;31m     \u001b[0mX\u001b[0m \u001b[0;34m=\u001b[0m \u001b[0mpd\u001b[0m\u001b[0;34m.\u001b[0m\u001b[0mDataFrame\u001b[0m\u001b[0;34m(\u001b[0m\u001b[0mmin_max_sc\u001b[0m\u001b[0;34m.\u001b[0m\u001b[0mfit_transform\u001b[0m\u001b[0;34m(\u001b[0m\u001b[0mX\u001b[0m\u001b[0;34m)\u001b[0m\u001b[0;34m)\u001b[0m\u001b[0;34m\u001b[0m\u001b[0;34m\u001b[0m\u001b[0m\n\u001b[0m\u001b[1;32m      8\u001b[0m \u001b[0;34m\u001b[0m\u001b[0m\n\u001b[1;32m      9\u001b[0m     \u001b[0;31m# stacking columns wth all ones in feature matrix\u001b[0m\u001b[0;34m\u001b[0m\u001b[0;34m\u001b[0m\u001b[0;34m\u001b[0m\u001b[0m\n",
      "\u001b[0;32m~/anaconda3/lib/python3.7/site-packages/sklearn/base.py\u001b[0m in \u001b[0;36mfit_transform\u001b[0;34m(self, X, y, **fit_params)\u001b[0m\n\u001b[1;32m    462\u001b[0m         \u001b[0;32mif\u001b[0m \u001b[0my\u001b[0m \u001b[0;32mis\u001b[0m \u001b[0;32mNone\u001b[0m\u001b[0;34m:\u001b[0m\u001b[0;34m\u001b[0m\u001b[0;34m\u001b[0m\u001b[0m\n\u001b[1;32m    463\u001b[0m             \u001b[0;31m# fit method of arity 1 (unsupervised transformation)\u001b[0m\u001b[0;34m\u001b[0m\u001b[0;34m\u001b[0m\u001b[0;34m\u001b[0m\u001b[0m\n\u001b[0;32m--> 464\u001b[0;31m             \u001b[0;32mreturn\u001b[0m \u001b[0mself\u001b[0m\u001b[0;34m.\u001b[0m\u001b[0mfit\u001b[0m\u001b[0;34m(\u001b[0m\u001b[0mX\u001b[0m\u001b[0;34m,\u001b[0m \u001b[0;34m**\u001b[0m\u001b[0mfit_params\u001b[0m\u001b[0;34m)\u001b[0m\u001b[0;34m.\u001b[0m\u001b[0mtransform\u001b[0m\u001b[0;34m(\u001b[0m\u001b[0mX\u001b[0m\u001b[0;34m)\u001b[0m\u001b[0;34m\u001b[0m\u001b[0;34m\u001b[0m\u001b[0m\n\u001b[0m\u001b[1;32m    465\u001b[0m         \u001b[0;32melse\u001b[0m\u001b[0;34m:\u001b[0m\u001b[0;34m\u001b[0m\u001b[0;34m\u001b[0m\u001b[0m\n\u001b[1;32m    466\u001b[0m             \u001b[0;31m# fit method of arity 2 (supervised transformation)\u001b[0m\u001b[0;34m\u001b[0m\u001b[0;34m\u001b[0m\u001b[0;34m\u001b[0m\u001b[0m\n",
      "\u001b[0;32m~/anaconda3/lib/python3.7/site-packages/sklearn/preprocessing/data.py\u001b[0m in \u001b[0;36mfit\u001b[0;34m(self, X, y)\u001b[0m\n\u001b[1;32m    332\u001b[0m         \u001b[0;31m# Reset internal state before fitting\u001b[0m\u001b[0;34m\u001b[0m\u001b[0;34m\u001b[0m\u001b[0;34m\u001b[0m\u001b[0m\n\u001b[1;32m    333\u001b[0m         \u001b[0mself\u001b[0m\u001b[0;34m.\u001b[0m\u001b[0m_reset\u001b[0m\u001b[0;34m(\u001b[0m\u001b[0;34m)\u001b[0m\u001b[0;34m\u001b[0m\u001b[0;34m\u001b[0m\u001b[0m\n\u001b[0;32m--> 334\u001b[0;31m         \u001b[0;32mreturn\u001b[0m \u001b[0mself\u001b[0m\u001b[0;34m.\u001b[0m\u001b[0mpartial_fit\u001b[0m\u001b[0;34m(\u001b[0m\u001b[0mX\u001b[0m\u001b[0;34m,\u001b[0m \u001b[0my\u001b[0m\u001b[0;34m)\u001b[0m\u001b[0;34m\u001b[0m\u001b[0;34m\u001b[0m\u001b[0m\n\u001b[0m\u001b[1;32m    335\u001b[0m \u001b[0;34m\u001b[0m\u001b[0m\n\u001b[1;32m    336\u001b[0m     \u001b[0;32mdef\u001b[0m \u001b[0mpartial_fit\u001b[0m\u001b[0;34m(\u001b[0m\u001b[0mself\u001b[0m\u001b[0;34m,\u001b[0m \u001b[0mX\u001b[0m\u001b[0;34m,\u001b[0m \u001b[0my\u001b[0m\u001b[0;34m=\u001b[0m\u001b[0;32mNone\u001b[0m\u001b[0;34m)\u001b[0m\u001b[0;34m:\u001b[0m\u001b[0;34m\u001b[0m\u001b[0;34m\u001b[0m\u001b[0m\n",
      "\u001b[0;32m~/anaconda3/lib/python3.7/site-packages/sklearn/preprocessing/data.py\u001b[0m in \u001b[0;36mpartial_fit\u001b[0;34m(self, X, y)\u001b[0m\n\u001b[1;32m    360\u001b[0m         X = check_array(X, copy=self.copy, warn_on_dtype=True,\n\u001b[1;32m    361\u001b[0m                         \u001b[0mestimator\u001b[0m\u001b[0;34m=\u001b[0m\u001b[0mself\u001b[0m\u001b[0;34m,\u001b[0m \u001b[0mdtype\u001b[0m\u001b[0;34m=\u001b[0m\u001b[0mFLOAT_DTYPES\u001b[0m\u001b[0;34m,\u001b[0m\u001b[0;34m\u001b[0m\u001b[0;34m\u001b[0m\u001b[0m\n\u001b[0;32m--> 362\u001b[0;31m                         force_all_finite=\"allow-nan\")\n\u001b[0m\u001b[1;32m    363\u001b[0m \u001b[0;34m\u001b[0m\u001b[0m\n\u001b[1;32m    364\u001b[0m         \u001b[0mdata_min\u001b[0m \u001b[0;34m=\u001b[0m \u001b[0mnp\u001b[0m\u001b[0;34m.\u001b[0m\u001b[0mnanmin\u001b[0m\u001b[0;34m(\u001b[0m\u001b[0mX\u001b[0m\u001b[0;34m,\u001b[0m \u001b[0maxis\u001b[0m\u001b[0;34m=\u001b[0m\u001b[0;36m0\u001b[0m\u001b[0;34m)\u001b[0m\u001b[0;34m\u001b[0m\u001b[0;34m\u001b[0m\u001b[0m\n",
      "\u001b[0;32m~/anaconda3/lib/python3.7/site-packages/sklearn/utils/validation.py\u001b[0m in \u001b[0;36mcheck_array\u001b[0;34m(array, accept_sparse, accept_large_sparse, dtype, order, copy, force_all_finite, ensure_2d, allow_nd, ensure_min_samples, ensure_min_features, warn_on_dtype, estimator)\u001b[0m\n\u001b[1;32m    525\u001b[0m             \u001b[0;32mtry\u001b[0m\u001b[0;34m:\u001b[0m\u001b[0;34m\u001b[0m\u001b[0;34m\u001b[0m\u001b[0m\n\u001b[1;32m    526\u001b[0m                 \u001b[0mwarnings\u001b[0m\u001b[0;34m.\u001b[0m\u001b[0msimplefilter\u001b[0m\u001b[0;34m(\u001b[0m\u001b[0;34m'error'\u001b[0m\u001b[0;34m,\u001b[0m \u001b[0mComplexWarning\u001b[0m\u001b[0;34m)\u001b[0m\u001b[0;34m\u001b[0m\u001b[0;34m\u001b[0m\u001b[0m\n\u001b[0;32m--> 527\u001b[0;31m                 \u001b[0marray\u001b[0m \u001b[0;34m=\u001b[0m \u001b[0mnp\u001b[0m\u001b[0;34m.\u001b[0m\u001b[0masarray\u001b[0m\u001b[0;34m(\u001b[0m\u001b[0marray\u001b[0m\u001b[0;34m,\u001b[0m \u001b[0mdtype\u001b[0m\u001b[0;34m=\u001b[0m\u001b[0mdtype\u001b[0m\u001b[0;34m,\u001b[0m \u001b[0morder\u001b[0m\u001b[0;34m=\u001b[0m\u001b[0morder\u001b[0m\u001b[0;34m)\u001b[0m\u001b[0;34m\u001b[0m\u001b[0;34m\u001b[0m\u001b[0m\n\u001b[0m\u001b[1;32m    528\u001b[0m             \u001b[0;32mexcept\u001b[0m \u001b[0mComplexWarning\u001b[0m\u001b[0;34m:\u001b[0m\u001b[0;34m\u001b[0m\u001b[0;34m\u001b[0m\u001b[0m\n\u001b[1;32m    529\u001b[0m                 raise ValueError(\"Complex data not supported\\n\"\n",
      "\u001b[0;32m~/anaconda3/lib/python3.7/site-packages/numpy/core/numeric.py\u001b[0m in \u001b[0;36masarray\u001b[0;34m(a, dtype, order)\u001b[0m\n\u001b[1;32m    536\u001b[0m \u001b[0;34m\u001b[0m\u001b[0m\n\u001b[1;32m    537\u001b[0m     \"\"\"\n\u001b[0;32m--> 538\u001b[0;31m     \u001b[0;32mreturn\u001b[0m \u001b[0marray\u001b[0m\u001b[0;34m(\u001b[0m\u001b[0ma\u001b[0m\u001b[0;34m,\u001b[0m \u001b[0mdtype\u001b[0m\u001b[0;34m,\u001b[0m \u001b[0mcopy\u001b[0m\u001b[0;34m=\u001b[0m\u001b[0;32mFalse\u001b[0m\u001b[0;34m,\u001b[0m \u001b[0morder\u001b[0m\u001b[0;34m=\u001b[0m\u001b[0morder\u001b[0m\u001b[0;34m)\u001b[0m\u001b[0;34m\u001b[0m\u001b[0;34m\u001b[0m\u001b[0m\n\u001b[0m\u001b[1;32m    539\u001b[0m \u001b[0;34m\u001b[0m\u001b[0m\n\u001b[1;32m    540\u001b[0m \u001b[0;34m\u001b[0m\u001b[0m\n",
      "\u001b[0;31mValueError\u001b[0m: could not convert string to float: 'Win'"
     ]
    }
   ],
   "source": [
    "# if __name__ == \"__main__\": \n",
    "#     # load the dataset \n",
    "#     dataset = loadCSV('dataset1.csv') \n",
    "      \n",
    "#     # normalizing feature matrix \n",
    "#     X = normalize(dataset[:, :-1]) \n",
    "      \n",
    "#     # stacking columns wth all ones in feature matrix \n",
    "#     X = np.hstack((np.matrix(np.ones(X.shape[0])).T, X)) \n",
    "  \n",
    "#     # response vector \n",
    "#     y = dataset[:, -1] \n",
    "  \n",
    "#     # initial beta values \n",
    "#     beta = np.matrix(np.zeros(X.shape[1])) \n",
    "  \n",
    "#     # beta values after running gradient descent \n",
    "#     beta, num_iter = grad_desc(X, y, beta) \n",
    "  \n",
    "#     # estimated beta values and number of iterations \n",
    "#     print(\"Estimated regression coefficients:\", beta) \n",
    "#     print(\"No. of iterations:\", num_iter) \n",
    "  \n",
    "#     # predicted labels \n",
    "#     y_pred = pred_values(beta, X) \n",
    "      \n",
    "#     # number of correctly predicted labels \n",
    "#     print(\"Correctly predicted labels:\", np.sum(y == y_pred)) \n",
    "      \n",
    "#     # plotting regression line \n",
    "#     plot_reg(X, y, beta) "
   ]
  },
  {
   "cell_type": "code",
   "execution_count": null,
   "metadata": {},
   "outputs": [],
   "source": []
  }
 ],
 "metadata": {
  "kernelspec": {
   "display_name": "Python 3",
   "language": "python",
   "name": "python3"
  },
  "language_info": {
   "codemirror_mode": {
    "name": "ipython",
    "version": 3
   },
   "file_extension": ".py",
   "mimetype": "text/x-python",
   "name": "python",
   "nbconvert_exporter": "python",
   "pygments_lexer": "ipython3",
   "version": "3.8.2-final"
  }
 },
 "nbformat": 4,
 "nbformat_minor": 2
}